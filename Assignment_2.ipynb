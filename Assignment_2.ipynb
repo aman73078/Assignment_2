{
 "cells": [
  {
   "cell_type": "code",
   "execution_count": 55,
   "id": "1277087c-26b7-4ff3-b35d-69b13c7791f4",
   "metadata": {},
   "outputs": [],
   "source": [
    "# Q1. How do you comment code in Python? What are the different types of comments?"
   ]
  },
  {
   "cell_type": "code",
   "execution_count": 79,
   "id": "9e2c6f62-16db-4121-9563-911583c8a5bd",
   "metadata": {},
   "outputs": [],
   "source": [
    " # Ans. We comment code in python by using '#' symbol and three times of single quotes (''') or \n",
    " #      double quotes (\"\"\"). There are three types of comments:       \n",
    " \n",
    " # 1. Single line comment- A single line comment starts and ends in the same line. We use '#' \n",
    " #                         symbol for writing a single line comment.\n",
    " #                         For example :-   print(\"Rahul\")\n",
    "\n",
    "# 2. Multiline comment - if we have more than 1 line then firstly i have to select all line to  \n",
    "#                        comment. Press shortcut key 'ctrl + A' (to select all line) after that \n",
    "#                        press 'ctrl + /'. All lines will change in comment.\n",
    "\n",
    "# 3. Docstring comment - We have another way to change of the code in comment. We have to \n",
    "#                        add single quotes (''') or double quotes (\"\"\") in the beginning of the \n",
    "#                        sentence and ending of the sentence then code will change in comment"
   ]
  },
  {
   "cell_type": "code",
   "execution_count": 80,
   "id": "e3bbdd21-b2e5-4eed-b95e-35ee167908f4",
   "metadata": {},
   "outputs": [],
   "source": [
    "# Q2. What are variables in Python? How do you declare and assign values to variables?"
   ]
  },
  {
   "cell_type": "code",
   "execution_count": 81,
   "id": "ee5f485d-0eb3-4274-87e0-cc1802cabded",
   "metadata": {},
   "outputs": [],
   "source": [
    "# Ans- Variable is a place holder where we store our data. Variable provides space in memory for \n",
    "#      storing our data. We declare values to variables by using Data Types like :- int, float, \n",
    "#      complex, list, tuple etc. We use equal to sign '=' for assigning value in variable.\n",
    "#      For example:- \n",
    "#                    fruits = ['mango', 'grapes', 'papaya', (3, 5, 83.05, 93), 838, 2.39]\n"
   ]
  },
  {
   "cell_type": "code",
   "execution_count": 82,
   "id": "5b256553-555e-4523-a5f4-d81b20069942",
   "metadata": {},
   "outputs": [],
   "source": [
    "# Q3. How do you convert one data type to another in Python?"
   ]
  },
  {
   "cell_type": "code",
   "execution_count": 83,
   "id": "492b9e5a-a441-4079-b39f-25c94c0c449a",
   "metadata": {},
   "outputs": [],
   "source": [
    "# Ans- We convert one data type to another by using type conversion function like int(), float(),\n",
    "#      str(), list(), tuple(). This type of conversion is also called typecasting because the user\n",
    "#      change the data type of the objects."
   ]
  },
  {
   "cell_type": "code",
   "execution_count": 84,
   "id": "0b28000d-02f5-46eb-985a-86fa23d64f0b",
   "metadata": {},
   "outputs": [],
   "source": [
    "# Q4. How do you write and execute a Python script from the command line?"
   ]
  },
  {
   "cell_type": "code",
   "execution_count": 85,
   "id": "315277d8-74d4-4c62-8696-70c12442a492",
   "metadata": {},
   "outputs": [],
   "source": [
    "# Ans- Firstly we have to open command-line and type in the word python or python3 if you have both\n",
    "#      versions, followed by the path to your script and type just like this:  \n",
    "#      $ python3 hello.py\n",
    "#      then the python script will execute and the result will show just like this: Hello World! "
   ]
  },
  {
   "cell_type": "code",
   "execution_count": 86,
   "id": "e97f8e84-a14f-491a-afcc-17b57509c5e8",
   "metadata": {},
   "outputs": [],
   "source": [
    "# Q5. Given a list my_list = [1, 2, 3, 4, 5], write the code to slice the list and obtain the \n",
    "#     sub-list [2, 3]."
   ]
  },
  {
   "cell_type": "code",
   "execution_count": 87,
   "id": "7b81e13e-c2c7-46a9-b9da-7a8f239d4e83",
   "metadata": {},
   "outputs": [
    {
     "name": "stdout",
     "output_type": "stream",
     "text": [
      "The sub-list : [2, 3]\n"
     ]
    }
   ],
   "source": [
    "# Ans-\n",
    "my_list = [1, 2, 3, 4, 5]\n",
    "my_list[1:3]\n",
    "print(\"The sub-list :\", my_list[1:3])"
   ]
  },
  {
   "cell_type": "code",
   "execution_count": 88,
   "id": "f8ca63c6-8da3-4ffb-a150-d461fde42b35",
   "metadata": {},
   "outputs": [],
   "source": [
    "# Q6. What is a complex number in mathematics, and how is it represented in Python?"
   ]
  },
  {
   "cell_type": "code",
   "execution_count": 89,
   "id": "fa056798-4449-42f5-898f-c0257f69ed94",
   "metadata": {},
   "outputs": [],
   "source": [
    "# Ans- Complex number are expressed in mathematics in the form of a+ib, where a,b are real numbers \n",
    "#      and 'i' is an imaginary number that called “iota”. The value of i = (√-1). \n",
    "#      For example:- \n",
    "#      5 + 8i is a complex number, where 2 is a real number (Re) and 3i is an imaginary number (Im).\n",
    "#      \n",
    "#      We represent complex number in python in the form of a+bj, where a,b are real numbers and \n",
    "#      'j' is an imaginary number.\n",
    "#      For example:-   f = 8+7j\n",
    "#                      f.real     (Result:- 8.0)\n",
    "#                      f.imag     (Result:- 7.0)      "
   ]
  },
  {
   "cell_type": "code",
   "execution_count": 90,
   "id": "886d3ecc-058d-41fd-bc4f-2022da1200d9",
   "metadata": {},
   "outputs": [],
   "source": [
    "# Q7. What is the correct way to declare a variable named age and assign the value 25 to it?"
   ]
  },
  {
   "cell_type": "code",
   "execution_count": 91,
   "id": "08379189-fd21-456e-821e-5e943fc8b157",
   "metadata": {},
   "outputs": [],
   "source": [
    "# Ans- Python has no command for declaring a variable. A variable is created when some value is \n",
    "#      assigned to it. For declaring a variable in python is very simple. \n",
    "#        1. Just name the variable.\n",
    "#        2. Assign the required value to it\n",
    "#        3. The data type of the variable will be automatically determined from the value assigned,\n",
    "#           we need not define it explicitly."
   ]
  },
  {
   "cell_type": "code",
   "execution_count": 92,
   "id": "4ce34c18-a086-4315-8082-e978ba854609",
   "metadata": {},
   "outputs": [],
   "source": [
    "# Q8. Declare a variable named price and assign the value 9.99 to it. What data type does this \n",
    "#     variable belong to?"
   ]
  },
  {
   "cell_type": "code",
   "execution_count": 70,
   "id": "799b116c-6768-48a6-b32b-b392952be9d3",
   "metadata": {},
   "outputs": [],
   "source": [
    "# Ans- \n",
    "price = 9.99"
   ]
  },
  {
   "cell_type": "code",
   "execution_count": 71,
   "id": "693e0a2b-0d6a-41d0-9e40-4bd5190a2954",
   "metadata": {},
   "outputs": [
    {
     "data": {
      "text/plain": [
       "float"
      ]
     },
     "execution_count": 71,
     "metadata": {},
     "output_type": "execute_result"
    }
   ],
   "source": [
    "type(price)"
   ]
  },
  {
   "cell_type": "code",
   "execution_count": 72,
   "id": "dbc71c88-a243-4e72-a795-fc8f8470e51f",
   "metadata": {},
   "outputs": [],
   "source": [
    "# Q9. Create a variable named name and assign your full name to it as a string. How would you print\n",
    "#     the value of this variable?"
   ]
  },
  {
   "cell_type": "code",
   "execution_count": 73,
   "id": "24e0d233-884e-4860-bd11-16a96541f0fa",
   "metadata": {},
   "outputs": [
    {
     "name": "stdout",
     "output_type": "stream",
     "text": [
      "The value of this variable: Aman Tripathi\n"
     ]
    }
   ],
   "source": [
    "# Ans- We use 'print()' print function for giving the output\n",
    "name = \"Aman Tripathi\"\n",
    "print(\"The value of this variable:\", name)\n"
   ]
  },
  {
   "cell_type": "code",
   "execution_count": 74,
   "id": "8e6de5e3-dda5-4245-a423-1331b3973340",
   "metadata": {},
   "outputs": [],
   "source": [
    "# Q10. Given the string \"Hello, World!\", extract the substring \"World\"."
   ]
  },
  {
   "cell_type": "code",
   "execution_count": 75,
   "id": "9a474dc8-9a22-46b6-b4c1-7cfc0505385f",
   "metadata": {},
   "outputs": [
    {
     "name": "stdout",
     "output_type": "stream",
     "text": [
      "substring : World\n"
     ]
    }
   ],
   "source": [
    "# Ans- \n",
    "string = \"Hello, World!\"\n",
    "substring = string[7:-1:1]\n",
    "print(\"substring :\", substring)"
   ]
  },
  {
   "cell_type": "code",
   "execution_count": 76,
   "id": "3b4707b9-1dfb-4052-8faa-0054c977f8eb",
   "metadata": {},
   "outputs": [
    {
     "data": {
      "text/plain": [
       "str"
      ]
     },
     "execution_count": 76,
     "metadata": {},
     "output_type": "execute_result"
    }
   ],
   "source": [
    "type(substring)"
   ]
  },
  {
   "cell_type": "code",
   "execution_count": 77,
   "id": "4d1b73a3-dbe8-47e8-a196-7d36a4e7f06a",
   "metadata": {},
   "outputs": [],
   "source": [
    "# Q11. Create a variable named \"is_student\" and assign it a boolean value indicating whether you \n",
    "# are currently a student or not."
   ]
  },
  {
   "cell_type": "code",
   "execution_count": 78,
   "id": "37bb0333-8a2d-452e-a0fd-e02ee923d02a",
   "metadata": {},
   "outputs": [
    {
     "name": "stdin",
     "output_type": "stream",
     "text": [
      "Enter a boolean value 1\n"
     ]
    },
    {
     "name": "stdout",
     "output_type": "stream",
     "text": [
      "You are a student\n"
     ]
    }
   ],
   "source": [
    "# Ans-\n",
    "is_student = int(input(\"Enter a boolean value\"))\n",
    "if is_student == True:\n",
    "    print(\"You are a student\")\n",
    "else:\n",
    "    print(\"You are not a student\")"
   ]
  },
  {
   "cell_type": "code",
   "execution_count": null,
   "id": "581a88c2-1256-4b19-bc8e-19ada4ac14a2",
   "metadata": {},
   "outputs": [],
   "source": []
  }
 ],
 "metadata": {
  "kernelspec": {
   "display_name": "Python 3 (ipykernel)",
   "language": "python",
   "name": "python3"
  },
  "language_info": {
   "codemirror_mode": {
    "name": "ipython",
    "version": 3
   },
   "file_extension": ".py",
   "mimetype": "text/x-python",
   "name": "python",
   "nbconvert_exporter": "python",
   "pygments_lexer": "ipython3",
   "version": "3.10.8"
  }
 },
 "nbformat": 4,
 "nbformat_minor": 5
}
